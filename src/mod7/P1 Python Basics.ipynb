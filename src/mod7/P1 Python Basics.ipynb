{
 "cells": [
  {
   "cell_type": "markdown",
   "id": "4391d9c3",
   "metadata": {},
   "source": [
    "# Poniendo en practica lo revisado anteriormente"
   ]
  },
  {
   "cell_type": "markdown",
   "id": "2446b49b",
   "metadata": {},
   "source": [
    "**Pregunta 1**\n",
    "\n",
    "Escribe codigo que permita mostrar en pantalla la fecha de hoy de forma literal. Salida esperada: \"Hoy es Sabado 30 de noviembre del 2024\"\n",
    "\n",
    "Comenta tu codigo para conocer el razonamiento usado para resolver el problema"
   ]
  },
  {
   "cell_type": "code",
   "execution_count": 7,
   "id": "a3c1fad0",
   "metadata": {},
   "outputs": [
    {
     "data": {
      "text/plain": [
       "'Hoy es Viernes 6 de diciembre del 2024'"
      ]
     },
     "execution_count": 7,
     "metadata": {},
     "output_type": "execute_result"
    }
   ],
   "source": [
    "# usando la libreria datetime se tiene acceso a la fecha actual del sistema\n",
    "# primero obtengo los datos del anio, mes y dia y el dia de la semana que corresponde la fecha actual\n",
    "# declaro los meses y dias de la semana en listas para indexarlas en la respuesta\n",
    "# muestro la respuesta en un texto con formato\n",
    "\n",
    "import datetime as dt\n",
    "year = dt.datetime.now().year\n",
    "month = dt.datetime.now().month\n",
    "day = dt.datetime.now().day\n",
    "weekday = dt.datetime.now().weekday()\n",
    "months = [\"enero\", \"febrero\", \"marzo\", \"abril\", \"mayo\", \"junio\", \"julio\", \"agosto\", \"septiembre\", \"octubre\", \"noviembre\", \"diciembre\"  ]\n",
    "days = [\"lunes\", \"martes\", \"miercoles\", \"jueves\", \"viernes\", \"sabado\", \"domingo\"]\n",
    "ans  = f\"Hoy es {days[weekday].capitalize()} {day} de {months[month-1]} del {year}\"\n",
    "ans"
   ]
  },
  {
   "cell_type": "markdown",
   "id": "29d14fb2",
   "metadata": {},
   "source": [
    "**Pregunta 2**\n",
    "\n",
    "Ordena alfanumericamente la lista \"lista_ej\", la solucion no debe tener mas de 5 lineas de codigo y no debe generar ningun mensaje de error.\n",
    "\n",
    "Comenta tu codigo para conocer el razonamiento usado para resolver el problema"
   ]
  },
  {
   "cell_type": "code",
   "execution_count": 1,
   "id": "10ca7397",
   "metadata": {},
   "outputs": [
    {
     "data": {
      "text/plain": [
       "[0, 1, 3, 6, 8, 9, 56, 100, 'a', 'c', 'e', 'g', 'h', 't', 'x', 'z']"
      ]
     },
     "execution_count": 1,
     "metadata": {},
     "output_type": "execute_result"
    }
   ],
   "source": [
    "lista_ej = ['a','z','c','x','e','t','g','h',1,56,8,3,6,9,0,100]\n",
    "# Version 1\n",
    "lista_str = list(filter(lambda x: type(x)==str, lista_ej)) #filtra los valores de tipo cadena\n",
    "lista_int = list(filter(lambda x: type(x)==int, lista_ej)) #filtra los valores de tipo entero\n",
    "lista_int.sort() #ordena la lista de enteros \n",
    "lista_str.sort() #ordena la lista de cadenas\n",
    "lista_int + lista_str #union de las dos listas y mostrar"
   ]
  },
  {
   "cell_type": "code",
   "execution_count": null,
   "id": "a4f0cad9",
   "metadata": {},
   "outputs": [
    {
     "data": {
      "text/plain": [
       "[0, 1, 100, 3, 56, 6, 8, 9, 'a', 'c', 'e', 'g', 'h', 't', 'x', 'z']"
      ]
     },
     "execution_count": 22,
     "metadata": {},
     "output_type": "execute_result"
    }
   ],
   "source": [
    "# Version 2\n",
    "lista_ej = [str(el) for el in lista_ej] #convierte a todos los valores a string\n",
    "lista_ej.sort() #ordena los valores de menor a mayor\n",
    "lista_ej = [int(el) if el.isdecimal() else str(el) for el in lista_ej] #luego se vuelve a poner a su tipo original\n",
    "lista_ej #mostrar la lista resultante "
   ]
  },
  {
   "cell_type": "markdown",
   "id": "7e6a9c9f",
   "metadata": {},
   "source": [
    "**Pregunta 3**\n",
    "\n",
    "Dada la lista \"cadena\" genera una nueva lista donde sean considerados todos los elementos que tienen mas de 3 letras. Los elementos de la nueva lista dichas palabras deben estar escritas en mayúsculas.\n",
    "\n",
    "Comenta tu codigo para conocer el razonamiento usado para resolver el problema"
   ]
  },
  {
   "cell_type": "code",
   "execution_count": null,
   "id": "aad00da5",
   "metadata": {},
   "outputs": [
    {
     "data": {
      "text/plain": [
       "['CASA', 'SUEÑO', 'COCINA']"
      ]
     },
     "execution_count": 28,
     "metadata": {},
     "output_type": "execute_result"
    }
   ],
   "source": [
    "cadena = [\"casa\",\"cal\",\"sal\",\"sueño\",\"cocina\",\"luz\"]\n",
    "ans = list(filter(lambda cad: len(cad)>3, cadena)) #filtramos los que son de longitud mayor a 3\n",
    "ans = list(map(str.upper, ans))#aplicamos la funcion para obtener mayusculas\n",
    "ans #mostrar la lista resultante "
   ]
  },
  {
   "cell_type": "markdown",
   "id": "9c43b7f6",
   "metadata": {},
   "source": [
    "**Pregunta 4**\n",
    "\n",
    "Del problema 3 existe una forma de mejorar tu código? SI, NO? En caso que tu respuesta es SI escribe el código alternativo. En caso que tu respuesta sea NO, comenta por qué no es posible mejorar lo realizado.\n"
   ]
  },
  {
   "cell_type": "code",
   "execution_count": null,
   "id": "c9870a6a",
   "metadata": {},
   "outputs": [
    {
     "data": {
      "text/plain": [
       "['CASA', 'SUEÑO', 'COCINA']"
      ]
     },
     "execution_count": 29,
     "metadata": {},
     "output_type": "execute_result"
    }
   ],
   "source": [
    "# esta es una solucion alternativa quie solo hace una iteracion y no como la anterior que primero filtra los valores y\n",
    "# despues convierte e a mayusculas ennuna segunda iteracion \n",
    "ans = [] #lista vacia \n",
    "for cad in cadena:\n",
    "  if len(cad) > 3: #filtramos solamente los de longitud\n",
    "    ans.append(cad.upper()) #convertimos en la misma iteracion a mayuscula\n",
    "ans #mostramos el resultado"
   ]
  },
  {
   "cell_type": "markdown",
   "id": "d76b0756",
   "metadata": {},
   "source": [
    "**Pregunta 5**\n",
    "\n",
    "\n",
    "Crea una función que validadora de contraseñas, la contraseña debe ser aceptaba como válida según los siguientes criterios:\n",
    "\n",
    "1. Debe tener al menos 8 caracteres.\n",
    "2. Debe incluir al menos una letra mayúscula, una letra minúscula y un número.\n",
    "3. Puede incluir caracteres especiales (!@#%^&*()-_+=), pero no son obligatorios.\n",
    "\n",
    "La funcion devuelve VALIDA si la contraseña cumple los criterios, y devuelve INVALIDO en caso contrario.\n",
    "\n",
    "Ejemplo de aplicacion: \n",
    "\n",
    "1. print(validar_contrasena(\"Hola1234\"))--> VALIDA\n",
    "2. print(validar_contrasena(\"hola1234\"))--> INVALIDA"
   ]
  },
  {
   "cell_type": "code",
   "execution_count": 3,
   "id": "9e215209",
   "metadata": {},
   "outputs": [
    {
     "data": {
      "text/plain": [
       "'INVALIDA'"
      ]
     },
     "execution_count": 3,
     "metadata": {},
     "output_type": "execute_result"
    }
   ],
   "source": [
    "def validar_password(passw:str):\n",
    "  contCaract = len(passw) #longitud del password\n",
    "  # caracEspeciales = list('!@#%^&*()-_+=')\n",
    "  contLMayus, contLMinus, contDig, contCaractEsp = 0, 0, 0, 0 #contadores de caracteres\n",
    "  for letter in passw:\n",
    "    if letter.isnumeric(): #contar los numeros\n",
    "      contDig += 1\n",
    "    elif ord(letter)>=65 and ord(letter)<=90: #contar las letras mayusculas\n",
    "      contLMayus +=1\n",
    "    elif ord(letter)>=97 and ord(letter)<=122: #contar las letras minusculas\n",
    "      contLMinus+=1\n",
    "    # elif letter in caracEspeciales:\n",
    "    #   contCaractEsp+=1\n",
    "  ans = (contCaract >=8) and (contLMayus>=1) and (contLMinus>=1) #verificar condiciones\n",
    "  # ans = ans or (contCaractEsp>=0)\n",
    "  return \"VALIDA\" if ans else \"INVALIDA\" #devolver la cadena depen la condicion verificada\n",
    "\n",
    "validar_password(passw='hola1234')"
   ]
  },
  {
   "cell_type": "markdown",
   "id": "19738a06",
   "metadata": {},
   "source": [
    "**Pregunta 6**\n",
    "\n",
    "\n",
    "Escribe una función que reciba una lista de números y devuelva un diccionario donde las claves sean los números y los valores la cantidad de veces que aparece cada número en la lista.\n",
    "\n",
    "Ejemplo de aplicacion: \n",
    "\n",
    "print(tabla_frecuencias([1, 2, 2, 3, 3, 3, 4, 2, 6, 6]))\n",
    "\n",
    "*Salida*: {1: 1, 2: 3, 3: 3, 4: 1, 6:2}"
   ]
  },
  {
   "cell_type": "code",
   "execution_count": 4,
   "id": "e62bd656",
   "metadata": {},
   "outputs": [
    {
     "data": {
      "text/plain": [
       "{1: 1, 2: 3, 3: 3, 4: 1, 6: 2}"
      ]
     },
     "execution_count": 4,
     "metadata": {},
     "output_type": "execute_result"
    }
   ],
   "source": [
    "def tabla_freciencias(data:list)->dict:\n",
    "  ans = {} #diccionario vacio\n",
    "  for d in data: #recorremos toda la lasita de valores\n",
    "    if not d in ans: # guardamos el nuevo valor\n",
    "      ans[d] = 1 #inicia un nuevo valor\n",
    "    else:\n",
    "      ans[d] +=1 #cuenta un valor existente\n",
    "  return ans\n",
    "\n",
    "tabla_freciencias(data=[1, 2, 2, 3, 3, 3, 4, 2, 6, 6])\n",
    "  "
   ]
  }
 ],
 "metadata": {
  "kernelspec": {
   "display_name": ".venv",
   "language": "python",
   "name": "python3"
  },
  "language_info": {
   "codemirror_mode": {
    "name": "ipython",
    "version": 3
   },
   "file_extension": ".py",
   "mimetype": "text/x-python",
   "name": "python",
   "nbconvert_exporter": "python",
   "pygments_lexer": "ipython3",
   "version": "3.11.8"
  }
 },
 "nbformat": 4,
 "nbformat_minor": 5
}
