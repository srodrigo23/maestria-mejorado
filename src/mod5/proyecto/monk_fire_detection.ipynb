{
 "cells": [
  {
   "cell_type": "code",
   "execution_count": 3,
   "metadata": {},
   "outputs": [
    {
     "name": "stdout",
     "output_type": "stream",
     "text": [
      "--2024-09-11 16:06:47--  https://docs.google.com/uc?export=download&id=1tTJ6KEkzv1GIRsvo_-wI6YQh7iztbDCW\n",
      "Resolving docs.google.com (docs.google.com)... 142.251.0.101, 142.251.0.139, 142.251.0.100, ...\n",
      "Connecting to docs.google.com (docs.google.com)|142.251.0.101|:443... connected.\n",
      "HTTP request sent, awaiting response... 303 See Other\n",
      "Location: https://drive.usercontent.google.com/download?id=1tTJ6KEkzv1GIRsvo_-wI6YQh7iztbDCW&export=download [following]\n",
      "--2024-09-11 16:06:47--  https://drive.usercontent.google.com/download?id=1tTJ6KEkzv1GIRsvo_-wI6YQh7iztbDCW&export=download\n",
      "Resolving drive.usercontent.google.com (drive.usercontent.google.com)... 142.250.0.132\n",
      "Connecting to drive.usercontent.google.com (drive.usercontent.google.com)|142.250.0.132|:443... connected.\n",
      "HTTP request sent, awaiting response... 200 OK\n",
      "Length: 2432 (2.4K) [text/html]\n",
      "Saving to: ‘STDOUT’\n",
      "\n",
      "-                   100%[===================>]   2.38K  --.-KB/s    in 0s      \n",
      "\n",
      "2024-09-11 16:06:48 (30.9 MB/s) - written to stdout [2432/2432]\n",
      "\n",
      "--2024-09-11 16:06:48--  https://docs.google.com/uc?export=download&confirm=&id=1tTJ6KEkzv1GIRsvo_-wI6YQh7iztbDCW\n",
      "Resolving docs.google.com (docs.google.com)... 142.251.0.139, 142.251.0.100, 142.251.0.138, ...\n",
      "Connecting to docs.google.com (docs.google.com)|142.251.0.139|:443... connected.\n",
      "HTTP request sent, awaiting response... 303 See Other\n",
      "Location: https://drive.usercontent.google.com/download?id=1tTJ6KEkzv1GIRsvo_-wI6YQh7iztbDCW&export=download [following]\n",
      "--2024-09-11 16:06:48--  https://drive.usercontent.google.com/download?id=1tTJ6KEkzv1GIRsvo_-wI6YQh7iztbDCW&export=download\n",
      "Resolving drive.usercontent.google.com (drive.usercontent.google.com)... 142.250.0.132\n",
      "Connecting to drive.usercontent.google.com (drive.usercontent.google.com)|142.250.0.132|:443... connected.\n",
      "HTTP request sent, awaiting response... 200 OK\n",
      "Length: 2432 (2.4K) [text/html]\n",
      "Saving to: ‘cls_fire_trained.zip’\n",
      "\n",
      "cls_fire_trained.zi 100%[===================>]   2.38K  --.-KB/s    in 0s      \n",
      "\n",
      "2024-09-11 16:06:49 (12.7 MB/s) - ‘cls_fire_trained.zip’ saved [2432/2432]\n",
      "\n"
     ]
    }
   ],
   "source": [
    "#download the pre-trained models\n",
    "!wget --load-cookies /tmp/cookies.txt \"https://docs.google.com/uc?export=download&confirm=$(wget --save-cookies /tmp/cookies.txt --keep-session-cookies --no-check-certificate 'https://docs.google.com/uc?export=download&id=1tTJ6KEkzv1GIRsvo_-wI6YQh7iztbDCW' -O- | sed -rn 's/.*confirm=([0-9A-Za-z_]+).*/\\1\\n/p')&id=1tTJ6KEkzv1GIRsvo_-wI6YQh7iztbDCW\" -O cls_fire_trained.zip && rm -rf /tmp/cookies.txt"
   ]
  },
  {
   "cell_type": "code",
   "execution_count": 1,
   "metadata": {},
   "outputs": [],
   "source": [
    "! unzip -qq cls_fire_trained.zip"
   ]
  },
  {
   "cell_type": "code",
   "execution_count": null,
   "metadata": {},
   "outputs": [],
   "source": []
  }
 ],
 "metadata": {
  "kernelspec": {
   "display_name": ".venv",
   "language": "python",
   "name": "python3"
  },
  "language_info": {
   "codemirror_mode": {
    "name": "ipython",
    "version": 3
   },
   "file_extension": ".py",
   "mimetype": "text/x-python",
   "name": "python",
   "nbconvert_exporter": "python",
   "pygments_lexer": "ipython3",
   "version": "3.11.8"
  }
 },
 "nbformat": 4,
 "nbformat_minor": 2
}
