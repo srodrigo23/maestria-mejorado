{
 "cells": [
  {
   "cell_type": "markdown",
   "id": "21b87cee",
   "metadata": {},
   "source": [
    "NOMBRES:\n",
    "Paola Ximena Aguilar Quiñones\n",
    "Maria Ines Argote Coca\n",
    "Sergio Cardenas"
   ]
  },
  {
   "cell_type": "markdown",
   "id": "dbd7477b",
   "metadata": {},
   "source": [
    "*Durante este ejercicio 50% de la calificación corresponde a resolver los problemas, y 50% al trabajo colaborativo.*"
   ]
  },
  {
   "cell_type": "markdown",
   "id": "8b875acf",
   "metadata": {},
   "source": [
    "**Ejercicio 1**\n",
    "\n",
    "Supongamos que tienes datos climáticos diarios de 4 ciudades durante una semana contenidos en la lista \"clima\". Cada fila representa un día, y cada columna representa una ciudad. Usando funciones en NumPy realizar las siguientes operaciones:\n",
    "1. Calcula el promedio de temperatura de cada ciudad durante la semana.\n",
    "2. Determina el día más caluroso (máxima temperatura) para cada ciudad.\n",
    "3. Genera una nueva matriz donde cada elemento indique si la temperatura fue superior al promedio semanal de su ciudad.\n",
    "\n",
    "Comenta tu codigo para conocer el razonamiento usado para resolver el problema."
   ]
  },
  {
   "cell_type": "code",
   "execution_count": 4,
   "id": "6746beb7",
   "metadata": {},
   "outputs": [],
   "source": [
    "import numpy as np\n",
    "clima = [[25, 30, 35, 28],\n",
    "         [24, 31, 34, 27],\n",
    "         [23, 32, 36, 29],\n",
    "         [26, 33, 37, 30],\n",
    "         [25, 30, 35, 28],\n",
    "         [27, 29, 34, 26],\n",
    "         [26, 31, 33, 27]]"
   ]
  },
  {
   "cell_type": "code",
   "execution_count": 12,
   "id": "1319994b",
   "metadata": {},
   "outputs": [
    {
     "name": "stdout",
     "output_type": "stream",
     "text": [
      "[25.14285714 30.85714286 34.85714286 27.85714286]\n"
     ]
    }
   ],
   "source": [
    "# Ejercicio 1 \n",
    "average = np.mean(clima, axis=0)\n",
    "print(average)"
   ]
  },
  {
   "cell_type": "code",
   "execution_count": 13,
   "id": "6fae9707",
   "metadata": {},
   "outputs": [
    {
     "name": "stdout",
     "output_type": "stream",
     "text": [
      "[27 33 37 30]\n",
      "[5 3 3 3]\n"
     ]
    }
   ],
   "source": [
    "# Ejercicio 2\n",
    "maxTemp = np.max(clima, axis=0)\n",
    "indexMaxTemp = np.argmax(clima, axis=0)\n",
    "print(maxTemp)\n",
    "print(indexMaxTemp)"
   ]
  },
  {
   "cell_type": "code",
   "execution_count": 16,
   "id": "32d5e579",
   "metadata": {},
   "outputs": [
    {
     "name": "stdout",
     "output_type": "stream",
     "text": [
      "[[False False  True  True]\n",
      " [False  True False False]\n",
      " [False  True  True  True]\n",
      " [ True  True  True  True]\n",
      " [False False  True  True]\n",
      " [ True False False False]\n",
      " [ True  True False False]]\n"
     ]
    }
   ],
   "source": [
    "# Ejercicio 3\n",
    "lenghtM = np.shape(clima)\n",
    "superior_promedio = clima > average\n",
    "print(superior_promedio)"
   ]
  },
  {
   "cell_type": "markdown",
   "id": "4a092f64",
   "metadata": {},
   "source": [
    "**Ejercicio 2: Operaciones con matrices grandes**\n",
    "\n",
    "Genera dos matrices aleatorias de tamaño 5x5 con números enteros entre 10 y 50. Realiza las siguientes operaciones:\n",
    "\n",
    "1. Suma las dos matrices y guarda el resultado.\n",
    "2. Calcula el producto elemento a elemento de las dos matrices.\n",
    "3. Encuentra el promedio de todos los elementos de la matriz resultante del producto.\n",
    "4. Reemplaza todos los valores menores que el promedio en la matriz producto por 0."
   ]
  },
  {
   "cell_type": "code",
   "execution_count": 1,
   "id": "fb9e8148",
   "metadata": {},
   "outputs": [],
   "source": [
    "import numpy as np\n",
    "\n",
    "np.random.seed(0)  # Para reproducibilidad\n",
    "matriz1 = np.random.randint(10, 51, size=(5, 5))\n",
    "matriz2 = np.random.randint(10, 51, size=(5, 5))"
   ]
  },
  {
   "cell_type": "code",
   "execution_count": 2,
   "id": "eae34472",
   "metadata": {},
   "outputs": [
    {
     "data": {
      "text/plain": [
       "array([[10, 13, 13, 49, 19],\n",
       "       [29, 31, 46, 33, 16],\n",
       "       [34, 34, 22, 11, 48],\n",
       "       [49, 33, 34, 27, 47],\n",
       "       [35, 23, 18, 19, 30]])"
      ]
     },
     "execution_count": 2,
     "metadata": {},
     "output_type": "execute_result"
    }
   ],
   "source": [
    "matriz1"
   ]
  },
  {
   "cell_type": "code",
   "execution_count": 3,
   "id": "ce067a55",
   "metadata": {},
   "outputs": [
    {
     "data": {
      "text/plain": [
       "array([[26, 15, 25, 10, 28],\n",
       "       [45, 34, 39, 29, 29],\n",
       "       [24, 49, 42, 11, 19],\n",
       "       [42, 41, 20, 33, 45],\n",
       "       [21, 38, 44, 10, 10]])"
      ]
     },
     "execution_count": 3,
     "metadata": {},
     "output_type": "execute_result"
    }
   ],
   "source": [
    "matriz2"
   ]
  },
  {
   "cell_type": "code",
   "execution_count": 4,
   "id": "a1197f86",
   "metadata": {},
   "outputs": [
    {
     "data": {
      "text/plain": [
       "array([[36, 28, 38, 59, 47],\n",
       "       [74, 65, 85, 62, 45],\n",
       "       [58, 83, 64, 22, 67],\n",
       "       [91, 74, 54, 60, 92],\n",
       "       [56, 61, 62, 29, 40]])"
      ]
     },
     "execution_count": 4,
     "metadata": {},
     "output_type": "execute_result"
    }
   ],
   "source": [
    "# 1. Sumar  matrices y guardar el resultado\n",
    "suma_matrices = matriz1 + matriz2\n",
    "suma_matrices"
   ]
  },
  {
   "cell_type": "code",
   "execution_count": 5,
   "id": "9d6cc567",
   "metadata": {},
   "outputs": [
    {
     "data": {
      "text/plain": [
       "array([[ 260,  195,  325,  490,  532],\n",
       "       [1305, 1054, 1794,  957,  464],\n",
       "       [ 816, 1666,  924,  121,  912],\n",
       "       [2058, 1353,  680,  891, 2115],\n",
       "       [ 735,  874,  792,  190,  300]])"
      ]
     },
     "execution_count": 5,
     "metadata": {},
     "output_type": "execute_result"
    }
   ],
   "source": [
    "producto_matrices = matriz1 * matriz2\n",
    "producto_matrices"
   ]
  },
  {
   "cell_type": "code",
   "execution_count": 6,
   "id": "b63bb2db",
   "metadata": {},
   "outputs": [
    {
     "data": {
      "text/plain": [
       "872.12"
      ]
     },
     "execution_count": 6,
     "metadata": {},
     "output_type": "execute_result"
    }
   ],
   "source": [
    "promedio_producto = np.mean(producto_matrices)\n",
    "promedio_producto"
   ]
  },
  {
   "cell_type": "code",
   "execution_count": 7,
   "id": "b9bf0756",
   "metadata": {},
   "outputs": [
    {
     "data": {
      "text/plain": [
       "array([[   0,    0,    0,    0,    0],\n",
       "       [1305, 1054, 1794,  957,    0],\n",
       "       [   0, 1666,  924,    0,  912],\n",
       "       [2058, 1353,    0,  891, 2115],\n",
       "       [   0,  874,    0,    0,    0]])"
      ]
     },
     "execution_count": 7,
     "metadata": {},
     "output_type": "execute_result"
    }
   ],
   "source": [
    "np.where(producto_matrices < promedio_producto, 0, producto_matrices)"
   ]
  },
  {
   "cell_type": "markdown",
   "id": "9c9be9e2",
   "metadata": {},
   "source": [
    "**Ejercicio 3: Transformación y análisis de un conjunto de datos**\n",
    "\n",
    "El conjunto de datos presentado en \"ventas\" simula datos de ventas de 3 productos en 10 días. Cada columna representa un producto y cada fila un día. Realiza las siguientes operaciones:\n",
    "\n",
    "1. Calcula el total de ventas por producto (suma por columna).\n",
    "2. Encuentra el día con mayores ventas totales.\n",
    "3. Identifica si hay algún día en que todos los productos tuvieron ventas superiores a 100."
   ]
  },
  {
   "cell_type": "code",
   "execution_count": 8,
   "id": "b1eb5c6c",
   "metadata": {},
   "outputs": [
    {
     "data": {
      "text/plain": [
       "array([[ 86, 103,  55],\n",
       "       [ 88,  67, 129],\n",
       "       [ 54,  92, 108],\n",
       "       [ 81,  51, 115],\n",
       "       [ 91, 107,  85],\n",
       "       [ 61,  96, 132],\n",
       "       [141,  50,  64],\n",
       "       [149, 103,  62],\n",
       "       [ 92, 134, 125],\n",
       "       [118,  56, 118]])"
      ]
     },
     "execution_count": 8,
     "metadata": {},
     "output_type": "execute_result"
    }
   ],
   "source": [
    "import numpy as np\n",
    "ventas = np.random.randint(50,150, size=(10,3))\n",
    "ventas"
   ]
  },
  {
   "cell_type": "code",
   "execution_count": 10,
   "id": "55e87742",
   "metadata": {},
   "outputs": [
    {
     "data": {
      "text/plain": [
       "array([961, 859, 993])"
      ]
     },
     "execution_count": 10,
     "metadata": {},
     "output_type": "execute_result"
    }
   ],
   "source": [
    "# 1\n",
    "ventas.sum(axis=0)"
   ]
  },
  {
   "cell_type": "code",
   "execution_count": 13,
   "id": "82563a75",
   "metadata": {},
   "outputs": [
    {
     "data": {
      "text/plain": [
       "array([7, 8, 5], dtype=int64)"
      ]
     },
     "execution_count": 13,
     "metadata": {},
     "output_type": "execute_result"
    }
   ],
   "source": [
    "#2\n",
    "diaMayVenta = np.argmax(ventas, axis=0)\n",
    "diaMayVenta"
   ]
  },
  {
   "cell_type": "code",
   "execution_count": 14,
   "id": "e6bbb2de",
   "metadata": {},
   "outputs": [
    {
     "data": {
      "text/plain": [
       "array([[False,  True, False],\n",
       "       [False, False,  True],\n",
       "       [False, False,  True],\n",
       "       [False, False,  True],\n",
       "       [False,  True, False],\n",
       "       [False, False,  True],\n",
       "       [ True, False, False],\n",
       "       [ True,  True, False],\n",
       "       [False,  True,  True],\n",
       "       [ True, False,  True]])"
      ]
     },
     "execution_count": 14,
     "metadata": {},
     "output_type": "execute_result"
    }
   ],
   "source": [
    "#3\n",
    "ventas > 100"
   ]
  },
  {
   "cell_type": "markdown",
   "id": "ffe0f0a6",
   "metadata": {},
   "source": [
    "**Ejercicio 4**\n",
    "\n",
    "Simula un dataset con datos faltantes:\n",
    "\n",
    "1. Genera un array 2D de 5x5 con valores aleatorios entre 1 y 100.\n",
    "2. Reemplaza aleatoriamente el 20% de los valores con np.nan para simular datos faltantes.\n",
    "\n",
    "Escribe una función que:\n",
    "1. Reemplace los valores faltantes con la media de su columna.\n",
    "2. Devuelva el array modificado."
   ]
  },
  {
   "cell_type": "code",
   "execution_count": 25,
   "id": "7b2cd477",
   "metadata": {},
   "outputs": [
    {
     "data": {
      "text/plain": [
       "array([[ 83,  69,  23, 100,  84],\n",
       "       [  8,  73,  62,  14,   6],\n",
       "       [  1,   9,  80,  80,  54],\n",
       "       [ 12,   5,  40,  93,  46],\n",
       "       [ 27,  75,  53,  50,  92]])"
      ]
     },
     "execution_count": 25,
     "metadata": {},
     "output_type": "execute_result"
    }
   ],
   "source": [
    "#1\n",
    "matrix = np.random.randint(1, 101, size=(5,5))\n",
    "matrix"
   ]
  },
  {
   "cell_type": "code",
   "execution_count": 26,
   "id": "fe07b138",
   "metadata": {},
   "outputs": [
    {
     "data": {
      "text/plain": [
       "array([[ 83.,  69.,  23., 100.,  84.],\n",
       "       [  8.,  73.,  nan,  14.,   6.],\n",
       "       [  1.,   9.,  80.,  80.,  nan],\n",
       "       [ nan,   5.,  nan,  93.,  46.],\n",
       "       [ 27.,  75.,  nan,  50.,  92.]])"
      ]
     },
     "execution_count": 26,
     "metadata": {},
     "output_type": "execute_result"
    }
   ],
   "source": [
    "#2\n",
    "matrix = matrix.astype(float)\n",
    "ranIndex= np.random.choice(matrix.size, 5, replace=False)\n",
    "matrix.ravel()[ranIndex] = np.nan\n",
    "matrix\n"
   ]
  },
  {
   "cell_type": "code",
   "execution_count": 29,
   "id": "df5afba7",
   "metadata": {},
   "outputs": [
    {
     "data": {
      "text/plain": [
       "array([29.75, 46.2 , 51.5 , 67.4 , 57.  ])"
      ]
     },
     "execution_count": 29,
     "metadata": {},
     "output_type": "execute_result"
    }
   ],
   "source": [
    "#3\n",
    "def replaceMeanColumn(matrix):\n",
    "    colsMean = np.nanmean(matrix, axis=0)\n",
    "    print(colsMean)\n",
    "\n",
    "\n",
    "replaceMeanColumn(m)\n"
   ]
  },
  {
   "cell_type": "code",
   "execution_count": null,
   "id": "c3751a63",
   "metadata": {},
   "outputs": [],
   "source": []
  }
 ],
 "metadata": {
  "kernelspec": {
   "display_name": "Python 3 (ipykernel)",
   "language": "python",
   "name": "python3"
  },
  "language_info": {
   "codemirror_mode": {
    "name": "ipython",
    "version": 3
   },
   "file_extension": ".py",
   "mimetype": "text/x-python",
   "name": "python",
   "nbconvert_exporter": "python",
   "pygments_lexer": "ipython3",
   "version": "3.10.6"
  }
 },
 "nbformat": 4,
 "nbformat_minor": 5
}
