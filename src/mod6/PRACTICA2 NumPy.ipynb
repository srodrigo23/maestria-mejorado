{
 "cells": [
  {
   "cell_type": "markdown",
   "id": "21b87cee",
   "metadata": {},
   "source": [
    "NOMBRES:\n",
    "\n",
    "## Sergio Rodrigo Cárdenas Rivera\n"
   ]
  },
  {
   "cell_type": "markdown",
   "id": "dbd7477b",
   "metadata": {},
   "source": [
    "*Durante este ejercicio 50% de la calificación corresponde a resolver los problemas, y 50% al trabajo colaborativo.*"
   ]
  },
  {
   "cell_type": "markdown",
   "id": "8b875acf",
   "metadata": {},
   "source": [
    "**Ejercicio 1**\n",
    "\n",
    "Supongamos que tienes datos climáticos diarios de 4 ciudades durante una semana contenidos en la lista \"clima\". Cada fila representa un día, y cada columna representa una ciudad. Usando funciones en NumPy realizar las siguientes operaciones:\n",
    "1. Calcula el promedio de temperatura de cada ciudad durante la semana.\n",
    "2. Determina el día más caluroso (máxima temperatura) para cada ciudad.\n",
    "3. Genera una nueva matriz donde cada elemento indique si la temperatura fue superior al promedio semanal de su ciudad.\n",
    "\n",
    "Comenta tu codigo para conocer el razonamiento usado para resolver el problema."
   ]
  },
  {
   "cell_type": "code",
   "execution_count": 23,
   "id": "6746beb7",
   "metadata": {},
   "outputs": [],
   "source": [
    "clima = [\n",
    "  [25, 30, 35, 28],\n",
    "  [24, 31, 34, 27],\n",
    "  [23, 32, 36, 29],\n",
    "  [26, 33, 37, 30],\n",
    "  [25, 30, 35, 28],\n",
    "  [27, 29, 34, 26],\n",
    "  [26, 31, 33, 27]\n",
    "]"
   ]
  },
  {
   "cell_type": "code",
   "execution_count": 30,
   "id": "29c40083",
   "metadata": {},
   "outputs": [
    {
     "name": "stdout",
     "output_type": "stream",
     "text": [
      "Promedio de temp por ciudad [25.14 30.86 34.86 27.86]\n"
     ]
    }
   ],
   "source": [
    "#1\n",
    "import numpy as np\n",
    "\n",
    "arr = np.array(clima)\n",
    "prom = arr.mean(axis=0)\n",
    "prom_temp_x_ciudad = np.round(prom, decimals=2)\n",
    "print('Promedio de temp por ciudad', prom_temp_x_ciudad)"
   ]
  },
  {
   "cell_type": "code",
   "execution_count": 31,
   "id": "1bb0342e",
   "metadata": {},
   "outputs": [
    {
     "name": "stdout",
     "output_type": "stream",
     "text": [
      "Maxima temp pore ciudad [27 33 37 30]\n",
      "Dia de max temp por ciudad [5 3 3 3]\n"
     ]
    }
   ],
   "source": [
    "#2\n",
    "max_temp = arr.max(axis=0)\n",
    "print('Maxima temp pore ciudad', max_temp)\n",
    "pos_max_temp = arr.argmax(axis=0)\n",
    "print('Dia de max temp por ciudad', pos_max_temp)"
   ]
  },
  {
   "cell_type": "code",
   "execution_count": 35,
   "id": "f33d4bc5",
   "metadata": {},
   "outputs": [
    {
     "name": "stdout",
     "output_type": "stream",
     "text": [
      "Dias que la temperatura fue mayor al prom.\n",
      " [[False False  True  True]\n",
      " [False  True False False]\n",
      " [False  True  True  True]\n",
      " [ True  True  True  True]\n",
      " [False False  True  True]\n",
      " [ True False False False]\n",
      " [ True  True False False]]\n"
     ]
    }
   ],
   "source": [
    "#3\n",
    "temp_sup_prom = arr > prom_temp_x_ciudad\n",
    "print('Dias que la temperatura fue mayor al prom.\\n',temp_sup_prom)"
   ]
  },
  {
   "cell_type": "markdown",
   "id": "4a092f64",
   "metadata": {},
   "source": [
    "**Ejercicio 2: Operaciones con matrices grandes**\n",
    "\n",
    "Genera dos matrices aleatorias de tamaño 5x5 con números enteros entre 10 y 50. Realiza las siguientes operaciones:\n",
    "\n",
    "1. Suma las dos matrices y guarda el resultado.\n",
    "2. Calcula el producto elemento a elemento de las dos matrices.\n",
    "3. Encuentra el promedio de todos los elementos de la matriz resultante del producto.\n",
    "4. Reemplaza todos los valores menores que el promedio en la matriz producto por 0."
   ]
  },
  {
   "cell_type": "code",
   "execution_count": 38,
   "id": "06d78b2b",
   "metadata": {},
   "outputs": [
    {
     "name": "stdout",
     "output_type": "stream",
     "text": [
      "[[49 44 34 10 12]\n",
      " [23 27 50 15 32]\n",
      " [44 32 31 33 31]\n",
      " [37 42 24 41 38]\n",
      " [43 20 27 41 38]]\n",
      "\n",
      "[[43 22 40 37 12]\n",
      " [14 23 22 36 18]\n",
      " [43 16 35 16 50]\n",
      " [49 11 40 44 34]\n",
      " [46 48 48 40 13]]\n"
     ]
    }
   ],
   "source": [
    "import numpy as np \n",
    "\n",
    "m1 = np.random.randint(10, 51, size=(5, 5))\n",
    "m2 = np.random.randint(10, 51, size=(5, 5))\n",
    "\n",
    "print(m1)\n",
    "print()\n",
    "print(m2)"
   ]
  },
  {
   "cell_type": "code",
   "execution_count": 41,
   "id": "33482187",
   "metadata": {},
   "outputs": [
    {
     "data": {
      "text/plain": [
       "array([[92, 66, 74, 47, 24],\n",
       "       [37, 50, 72, 51, 50],\n",
       "       [87, 48, 66, 49, 81],\n",
       "       [86, 53, 64, 85, 72],\n",
       "       [89, 68, 75, 81, 51]])"
      ]
     },
     "execution_count": 41,
     "metadata": {},
     "output_type": "execute_result"
    }
   ],
   "source": [
    "#1\n",
    "suma = m1 + m2\n",
    "suma"
   ]
  },
  {
   "cell_type": "code",
   "execution_count": 42,
   "id": "e197fd8b",
   "metadata": {},
   "outputs": [
    {
     "data": {
      "text/plain": [
       "array([[2107,  968, 1360,  370,  144],\n",
       "       [ 322,  621, 1100,  540,  576],\n",
       "       [1892,  512, 1085,  528, 1550],\n",
       "       [1813,  462,  960, 1804, 1292],\n",
       "       [1978,  960, 1296, 1640,  494]])"
      ]
     },
     "execution_count": 42,
     "metadata": {},
     "output_type": "execute_result"
    }
   ],
   "source": [
    "#2\n",
    "prod = m1 * m2\n",
    "prod"
   ]
  },
  {
   "cell_type": "code",
   "execution_count": 47,
   "id": "a4f23ba9",
   "metadata": {},
   "outputs": [
    {
     "name": "stdout",
     "output_type": "stream",
     "text": [
      "Prom matrix producto: 1054.96\n"
     ]
    }
   ],
   "source": [
    "#3\n",
    "prom_prod = np.average(prod)\n",
    "print('Prom matrix producto:', prom_prod)\n"
   ]
  },
  {
   "cell_type": "code",
   "execution_count": 48,
   "id": "caf160c6",
   "metadata": {},
   "outputs": [
    {
     "data": {
      "text/plain": [
       "array([[2107,    0, 1360,    0,    0],\n",
       "       [   0,    0, 1100,    0,    0],\n",
       "       [1892,    0, 1085,    0, 1550],\n",
       "       [1813,    0,    0, 1804, 1292],\n",
       "       [1978,    0, 1296, 1640,    0]])"
      ]
     },
     "execution_count": 48,
     "metadata": {},
     "output_type": "execute_result"
    }
   ],
   "source": [
    "#4\n",
    "m_remp = np.where(prod < prom_prod, 0, prod)\n",
    "m_remp"
   ]
  },
  {
   "cell_type": "markdown",
   "id": "9c9be9e2",
   "metadata": {},
   "source": [
    "**Ejercicio 3: Transformación y análisis de un conjunto de datos**\n",
    "\n",
    "El conjunto de datos presentado en \"ventas\" simula datos de ventas de 3 productos en 10 días. Cada columna representa un producto y cada fila un día. Realiza las siguientes operaciones:\n",
    "\n",
    "1. Calcula el total de ventas por producto (suma por columna).\n",
    "2. Encuentra el día con mayores ventas totales.\n",
    "3. Identifica si hay algún día en que todos los productos tuvieron ventas superiores a 100."
   ]
  },
  {
   "cell_type": "code",
   "execution_count": 49,
   "id": "b1eb5c6c",
   "metadata": {},
   "outputs": [
    {
     "data": {
      "text/plain": [
       "array([[ 71, 129,  77],\n",
       "       [ 57, 123, 109],\n",
       "       [136,  99,  80],\n",
       "       [132, 114,  75],\n",
       "       [108, 126,  58],\n",
       "       [126, 126, 136],\n",
       "       [ 93, 138,  52],\n",
       "       [ 68, 122, 109],\n",
       "       [103, 149,  81],\n",
       "       [ 97,  97,  84]])"
      ]
     },
     "execution_count": 49,
     "metadata": {},
     "output_type": "execute_result"
    }
   ],
   "source": [
    "import numpy as np\n",
    "ventas = np.random.randint(50,150, size=(10,3))\n",
    "ventas"
   ]
  },
  {
   "cell_type": "code",
   "execution_count": 52,
   "id": "09eeb1ad",
   "metadata": {},
   "outputs": [
    {
     "name": "stdout",
     "output_type": "stream",
     "text": [
      "Total de ventas por prod. [ 991 1223  861]\n"
     ]
    }
   ],
   "source": [
    "#1\n",
    "total_ventas_prod = ventas.sum(axis=0)\n",
    "print('Total de ventas por prod.', total_ventas_prod)"
   ]
  },
  {
   "cell_type": "code",
   "execution_count": 54,
   "id": "2b88c3c7",
   "metadata": {},
   "outputs": [
    {
     "name": "stdout",
     "output_type": "stream",
     "text": [
      "Dia de mayor venta [2 8 5]\n"
     ]
    }
   ],
   "source": [
    "#2\n",
    "dia_may_venta = ventas.argmax(axis=0)\n",
    "print('Dia de mayor venta', dia_may_venta)"
   ]
  },
  {
   "cell_type": "code",
   "execution_count": 58,
   "id": "b8a76e69",
   "metadata": {},
   "outputs": [
    {
     "name": "stdout",
     "output_type": "stream",
     "text": [
      "Dia con ventas mayores a 100\n",
      " [[False  True False]\n",
      " [False  True  True]\n",
      " [ True False False]\n",
      " [ True  True False]\n",
      " [ True  True False]\n",
      " [ True  True  True]\n",
      " [False  True False]\n",
      " [False  True  True]\n",
      " [ True  True False]\n",
      " [False False False]]\n"
     ]
    }
   ],
   "source": [
    "#3\n",
    "dia_ventas_may_100 = ventas > 100\n",
    "print('Dia con ventas mayores a 100\\n', dia_ventas_may_100)"
   ]
  },
  {
   "cell_type": "markdown",
   "id": "ffe0f0a6",
   "metadata": {},
   "source": [
    "**Ejercicio 4**\n",
    "\n",
    "Simula un dataset con datos faltantes:\n",
    "\n",
    "1. Genera un array 2D de 5x5 con valores aleatorios entre 1 y 100.\n",
    "2. Reemplaza aleatoriamente el 20% de los valores con np.nan para simular datos faltantes.\n",
    "\n",
    "Escribe una función que:\n",
    "1. Reemplace los valores faltantes con la media de su columna.\n",
    "2. Devuelva el array modificado."
   ]
  },
  {
   "cell_type": "code",
   "execution_count": 106,
   "id": "b65babe2",
   "metadata": {},
   "outputs": [
    {
     "data": {
      "text/plain": [
       "array([[35, 36, 68, 13,  6],\n",
       "       [47, 77, 60, 79, 40],\n",
       "       [ 8, 24, 86, 69, 17],\n",
       "       [73, 69, 92, 98, 67],\n",
       "       [52, 37, 95, 78, 22]])"
      ]
     },
     "execution_count": 106,
     "metadata": {},
     "output_type": "execute_result"
    }
   ],
   "source": [
    "#1\n",
    "m = np.random.randint(1, 101, size=(5, 5))\n",
    "m"
   ]
  },
  {
   "cell_type": "code",
   "execution_count": 107,
   "id": "26c11c9e",
   "metadata": {},
   "outputs": [
    {
     "data": {
      "text/plain": [
       "array([[35., 36., 68., 13.,  6.],\n",
       "       [nan, 77., 60., 79., nan],\n",
       "       [ 8., 24., 86., nan, 17.],\n",
       "       [73., 69., 92., 98., 67.],\n",
       "       [52., 37., nan, nan, 22.]])"
      ]
     },
     "execution_count": 107,
     "metadata": {},
     "output_type": "execute_result"
    }
   ],
   "source": [
    "#2\n",
    "m = m.astype(float)\n",
    "ranIndex = np.random.choice(m.size, 5, replace=False)\n",
    "m.ravel()[ranIndex] = np.nan\n",
    "m"
   ]
  },
  {
   "cell_type": "code",
   "execution_count": null,
   "id": "73135336",
   "metadata": {},
   "outputs": [
    {
     "name": "stdout",
     "output_type": "stream",
     "text": [
      "[[35.         36.         68.         13.          6.        ]\n",
      " [42.         77.         60.         79.         28.        ]\n",
      " [ 8.         24.         86.         63.33333333 17.        ]\n",
      " [73.         69.         92.         98.         67.        ]\n",
      " [52.         37.         76.5        63.33333333 22.        ]]\n"
     ]
    }
   ],
   "source": [
    "#1 y 2\n",
    "def remplaza_valores_faltantes(matrix):\n",
    "  media_col = np.nanmean(matrix, axis=0)\n",
    "  inds = np.where(np.isnan(matrix))\n",
    "  matrix[inds] = np.take(media_col, inds[1])\n",
    "  return matrix\n",
    "\n",
    "ans = remplaza_valores_faltantes(matrix=m) #devuelve el array modif.\n",
    "print(m)"
   ]
  },
  {
   "cell_type": "code",
   "execution_count": null,
   "id": "1dbeca3a",
   "metadata": {},
   "outputs": [],
   "source": [
    "#2\n"
   ]
  }
 ],
 "metadata": {
  "kernelspec": {
   "display_name": ".venv",
   "language": "python",
   "name": "python3"
  },
  "language_info": {
   "codemirror_mode": {
    "name": "ipython",
    "version": 3
   },
   "file_extension": ".py",
   "mimetype": "text/x-python",
   "name": "python",
   "nbconvert_exporter": "python",
   "pygments_lexer": "ipython3",
   "version": "3.11.8"
  }
 },
 "nbformat": 4,
 "nbformat_minor": 5
}
